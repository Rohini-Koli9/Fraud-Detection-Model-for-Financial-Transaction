{
  "nbformat": 4,
  "nbformat_minor": 0,
  "metadata": {
    "colab": {
      "provenance": [],
      "authorship_tag": "ABX9TyPNUxFZC0phVg4VMB0Oi6F3"
    },
    "kernelspec": {
      "name": "python3",
      "display_name": "Python 3"
    },
    "language_info": {
      "name": "python"
    }
  },
  "cells": [
    {
      "cell_type": "code",
      "execution_count": null,
      "metadata": {
        "colab": {
          "base_uri": "https://localhost:8080/",
          "height": 73
        },
        "id": "ruaNTsM8qvQZ",
        "outputId": "df5ad8a6-152d-4907-b9f3-bc4280458504"
      },
      "outputs": [
        {
          "output_type": "display_data",
          "data": {
            "text/plain": [
              "<IPython.core.display.HTML object>"
            ],
            "text/html": [
              "\n",
              "     <input type=\"file\" id=\"files-d5039704-7263-440c-a818-7f3a458f91c0\" name=\"files[]\" multiple disabled\n",
              "        style=\"border:none\" />\n",
              "     <output id=\"result-d5039704-7263-440c-a818-7f3a458f91c0\">\n",
              "      Upload widget is only available when the cell has been executed in the\n",
              "      current browser session. Please rerun this cell to enable.\n",
              "      </output>\n",
              "      <script>// Copyright 2017 Google LLC\n",
              "//\n",
              "// Licensed under the Apache License, Version 2.0 (the \"License\");\n",
              "// you may not use this file except in compliance with the License.\n",
              "// You may obtain a copy of the License at\n",
              "//\n",
              "//      http://www.apache.org/licenses/LICENSE-2.0\n",
              "//\n",
              "// Unless required by applicable law or agreed to in writing, software\n",
              "// distributed under the License is distributed on an \"AS IS\" BASIS,\n",
              "// WITHOUT WARRANTIES OR CONDITIONS OF ANY KIND, either express or implied.\n",
              "// See the License for the specific language governing permissions and\n",
              "// limitations under the License.\n",
              "\n",
              "/**\n",
              " * @fileoverview Helpers for google.colab Python module.\n",
              " */\n",
              "(function(scope) {\n",
              "function span(text, styleAttributes = {}) {\n",
              "  const element = document.createElement('span');\n",
              "  element.textContent = text;\n",
              "  for (const key of Object.keys(styleAttributes)) {\n",
              "    element.style[key] = styleAttributes[key];\n",
              "  }\n",
              "  return element;\n",
              "}\n",
              "\n",
              "// Max number of bytes which will be uploaded at a time.\n",
              "const MAX_PAYLOAD_SIZE = 100 * 1024;\n",
              "\n",
              "function _uploadFiles(inputId, outputId) {\n",
              "  const steps = uploadFilesStep(inputId, outputId);\n",
              "  const outputElement = document.getElementById(outputId);\n",
              "  // Cache steps on the outputElement to make it available for the next call\n",
              "  // to uploadFilesContinue from Python.\n",
              "  outputElement.steps = steps;\n",
              "\n",
              "  return _uploadFilesContinue(outputId);\n",
              "}\n",
              "\n",
              "// This is roughly an async generator (not supported in the browser yet),\n",
              "// where there are multiple asynchronous steps and the Python side is going\n",
              "// to poll for completion of each step.\n",
              "// This uses a Promise to block the python side on completion of each step,\n",
              "// then passes the result of the previous step as the input to the next step.\n",
              "function _uploadFilesContinue(outputId) {\n",
              "  const outputElement = document.getElementById(outputId);\n",
              "  const steps = outputElement.steps;\n",
              "\n",
              "  const next = steps.next(outputElement.lastPromiseValue);\n",
              "  return Promise.resolve(next.value.promise).then((value) => {\n",
              "    // Cache the last promise value to make it available to the next\n",
              "    // step of the generator.\n",
              "    outputElement.lastPromiseValue = value;\n",
              "    return next.value.response;\n",
              "  });\n",
              "}\n",
              "\n",
              "/**\n",
              " * Generator function which is called between each async step of the upload\n",
              " * process.\n",
              " * @param {string} inputId Element ID of the input file picker element.\n",
              " * @param {string} outputId Element ID of the output display.\n",
              " * @return {!Iterable<!Object>} Iterable of next steps.\n",
              " */\n",
              "function* uploadFilesStep(inputId, outputId) {\n",
              "  const inputElement = document.getElementById(inputId);\n",
              "  inputElement.disabled = false;\n",
              "\n",
              "  const outputElement = document.getElementById(outputId);\n",
              "  outputElement.innerHTML = '';\n",
              "\n",
              "  const pickedPromise = new Promise((resolve) => {\n",
              "    inputElement.addEventListener('change', (e) => {\n",
              "      resolve(e.target.files);\n",
              "    });\n",
              "  });\n",
              "\n",
              "  const cancel = document.createElement('button');\n",
              "  inputElement.parentElement.appendChild(cancel);\n",
              "  cancel.textContent = 'Cancel upload';\n",
              "  const cancelPromise = new Promise((resolve) => {\n",
              "    cancel.onclick = () => {\n",
              "      resolve(null);\n",
              "    };\n",
              "  });\n",
              "\n",
              "  // Wait for the user to pick the files.\n",
              "  const files = yield {\n",
              "    promise: Promise.race([pickedPromise, cancelPromise]),\n",
              "    response: {\n",
              "      action: 'starting',\n",
              "    }\n",
              "  };\n",
              "\n",
              "  cancel.remove();\n",
              "\n",
              "  // Disable the input element since further picks are not allowed.\n",
              "  inputElement.disabled = true;\n",
              "\n",
              "  if (!files) {\n",
              "    return {\n",
              "      response: {\n",
              "        action: 'complete',\n",
              "      }\n",
              "    };\n",
              "  }\n",
              "\n",
              "  for (const file of files) {\n",
              "    const li = document.createElement('li');\n",
              "    li.append(span(file.name, {fontWeight: 'bold'}));\n",
              "    li.append(span(\n",
              "        `(${file.type || 'n/a'}) - ${file.size} bytes, ` +\n",
              "        `last modified: ${\n",
              "            file.lastModifiedDate ? file.lastModifiedDate.toLocaleDateString() :\n",
              "                                    'n/a'} - `));\n",
              "    const percent = span('0% done');\n",
              "    li.appendChild(percent);\n",
              "\n",
              "    outputElement.appendChild(li);\n",
              "\n",
              "    const fileDataPromise = new Promise((resolve) => {\n",
              "      const reader = new FileReader();\n",
              "      reader.onload = (e) => {\n",
              "        resolve(e.target.result);\n",
              "      };\n",
              "      reader.readAsArrayBuffer(file);\n",
              "    });\n",
              "    // Wait for the data to be ready.\n",
              "    let fileData = yield {\n",
              "      promise: fileDataPromise,\n",
              "      response: {\n",
              "        action: 'continue',\n",
              "      }\n",
              "    };\n",
              "\n",
              "    // Use a chunked sending to avoid message size limits. See b/62115660.\n",
              "    let position = 0;\n",
              "    do {\n",
              "      const length = Math.min(fileData.byteLength - position, MAX_PAYLOAD_SIZE);\n",
              "      const chunk = new Uint8Array(fileData, position, length);\n",
              "      position += length;\n",
              "\n",
              "      const base64 = btoa(String.fromCharCode.apply(null, chunk));\n",
              "      yield {\n",
              "        response: {\n",
              "          action: 'append',\n",
              "          file: file.name,\n",
              "          data: base64,\n",
              "        },\n",
              "      };\n",
              "\n",
              "      let percentDone = fileData.byteLength === 0 ?\n",
              "          100 :\n",
              "          Math.round((position / fileData.byteLength) * 100);\n",
              "      percent.textContent = `${percentDone}% done`;\n",
              "\n",
              "    } while (position < fileData.byteLength);\n",
              "  }\n",
              "\n",
              "  // All done.\n",
              "  yield {\n",
              "    response: {\n",
              "      action: 'complete',\n",
              "    }\n",
              "  };\n",
              "}\n",
              "\n",
              "scope.google = scope.google || {};\n",
              "scope.google.colab = scope.google.colab || {};\n",
              "scope.google.colab._files = {\n",
              "  _uploadFiles,\n",
              "  _uploadFilesContinue,\n",
              "};\n",
              "})(self);\n",
              "</script> "
            ]
          },
          "metadata": {}
        },
        {
          "output_type": "stream",
          "name": "stdout",
          "text": [
            "Saving Fraud.csv to Fraud.csv\n"
          ]
        }
      ],
      "source": [
        "from google.colab import files\n",
        "uploaded = files.upload()  # Select Fraud.csv when prompted"
      ]
    },
    {
      "cell_type": "markdown",
      "source": [
        "## 1. Data Cleaning Process\n"
      ],
      "metadata": {
        "id": "KfiYYlQVNMfd"
      }
    },
    {
      "cell_type": "code",
      "source": [
        "import pandas as pd\n",
        "import numpy as np\n",
        "import matplotlib.pyplot as plt\n",
        "import seaborn as sns\n",
        "from statsmodels.stats.outliers_influence import variance_inflation_factor\n",
        "\n",
        "# Load data\n",
        "print(\"Loading dataset...\")\n",
        "df = pd.read_csv('Fraud.csv')\n",
        "print(f\"Initial shape: {df.shape}\")"
      ],
      "metadata": {
        "colab": {
          "base_uri": "https://localhost:8080/"
        },
        "id": "voOzJ27zNgCL",
        "outputId": "4dfd16b2-4027-4686-e892-422b175bf0cb"
      },
      "execution_count": 37,
      "outputs": [
        {
          "output_type": "stream",
          "name": "stdout",
          "text": [
            "Loading dataset...\n",
            "Initial shape: (6362620, 11)\n"
          ]
        }
      ]
    },
    {
      "cell_type": "markdown",
      "source": [
        "\n",
        "### 1.1 Handling Missing Values\n",
        "# **Explanation**:\n",
        "# Missing data can significantly impact model performance. We:\n",
        "# 1. First identify columns with missing values\n",
        "# 2. Remove rows with missing critical transactional data\n",
        "# 3. For less critical fields, we use median imputation which is robust to outliers"
      ],
      "metadata": {
        "id": "g52vAw13Nit6"
      }
    },
    {
      "cell_type": "code",
      "source": [
        "print(\"\\nMissing values analysis:\")\n",
        "print(df.isnull().sum())\n",
        "\n",
        "# Treatment\n",
        "print(\"\\nCleaning missing values...\")\n",
        "df = df.dropna(subset=['amount', 'oldbalanceOrg', 'isFraud'])  # Critical fields\n",
        "df.fillna({\n",
        "    'oldbalanceDest': df['oldbalanceDest'].median(),\n",
        "    'newbalanceDest': df['newbalanceDest'].median()\n",
        "}, inplace=True)\n",
        "\n",
        "print(\"\\nMissing values after treatment:\")\n",
        "print(df.isnull().sum())"
      ],
      "metadata": {
        "colab": {
          "base_uri": "https://localhost:8080/"
        },
        "id": "mOw1RnzoNw-x",
        "outputId": "b3830bb5-7861-4d22-9549-1c4c4118cdee"
      },
      "execution_count": 38,
      "outputs": [
        {
          "output_type": "stream",
          "name": "stdout",
          "text": [
            "\n",
            "Missing values analysis:\n",
            "step              0\n",
            "type              0\n",
            "amount            0\n",
            "nameOrig          0\n",
            "oldbalanceOrg     0\n",
            "newbalanceOrig    0\n",
            "nameDest          0\n",
            "oldbalanceDest    0\n",
            "newbalanceDest    0\n",
            "isFraud           0\n",
            "isFlaggedFraud    0\n",
            "dtype: int64\n",
            "\n",
            "Cleaning missing values...\n",
            "\n",
            "Missing values after treatment:\n",
            "step              0\n",
            "type              0\n",
            "amount            0\n",
            "nameOrig          0\n",
            "oldbalanceOrg     0\n",
            "newbalanceOrig    0\n",
            "nameDest          0\n",
            "oldbalanceDest    0\n",
            "newbalanceDest    0\n",
            "isFraud           0\n",
            "isFlaggedFraud    0\n",
            "dtype: int64\n"
          ]
        }
      ]
    },
    {
      "cell_type": "markdown",
      "source": [
        "### 1.2 Outlier Treatment\n",
        "# **Explanation**:\n",
        "# Extreme values can distort our model. We:\n",
        "# 1. Visualize distribution using boxplots\n",
        "# 2. Cap values at the 99th percentile to reduce impact of extremes while preserving data integrity\n"
      ],
      "metadata": {
        "id": "GJBlFVzVN60V"
      }
    },
    {
      "cell_type": "code",
      "source": [
        "plt.figure(figsize=(12,6))\n",
        "sns.boxplot(x=df['amount'])\n",
        "plt.title('Transaction Amount Distribution (Before Treatment)')\n",
        "plt.show()\n",
        "\n",
        "# Outlier treatment\n",
        "amount_cap = df['amount'].quantile(0.99)\n",
        "df['amount'] = np.where(df['amount'] > amount_cap, amount_cap, df['amount'])\n",
        "\n",
        "plt.figure(figsize=(12,6))\n",
        "sns.boxplot(x=df['amount'])\n",
        "plt.title('Transaction Amount Distribution (After Treatment)')\n",
        "plt.show()"
      ],
      "metadata": {
        "colab": {
          "base_uri": "https://localhost:8080/",
          "height": 1000
        },
        "id": "I37LhINTOEfn",
        "outputId": "77c0f30d-c291-477f-9291-0c1aa04add8a"
      },
      "execution_count": 39,
      "outputs": [
        {
          "output_type": "display_data",
          "data": {
            "text/plain": [
              "<Figure size 1200x600 with 1 Axes>"
            ],
            "image/png": "[encoded data removed]"
          },
          "metadata": {}
        },
        {
          "output_type": "display_data",
          "data": {
            "text/plain": [
              "<Figure size 1200x600 with 1 Axes>"
            ],
            "image/png": "[encoded data removed]"
          },
          "metadata": {}
        }
      ]
    },
    {
      "cell_type": "markdown",
      "source": [
        "### 1.3 Multi-collinearity Check\n",
        "# **Explanation**:\n",
        "# Highly correlated features can make models unstable. We:\n",
        "# 1. Calculate Variance Inflation Factor (VIF)\n",
        "# 2. Remove features with VIF > 5 as they cause multicollinearity issues"
      ],
      "metadata": {
        "id": "eiyx4d7vOLeH"
      }
    },
    {
      "cell_type": "code",
      "source": [
        "numerical_features = ['amount', 'oldbalanceOrg', 'newbalanceOrig', 'oldbalanceDest', 'newbalanceDest']\n",
        "vif_data = pd.DataFrame()\n",
        "vif_data[\"feature\"] = numerical_features\n",
        "vif_data[\"VIF\"] = [variance_inflation_factor(df[numerical_features].values, i)\n",
        "                   for i in range(len(numerical_features))]\n",
        "print(\"VIF Scores:\")\n",
        "print(vif_data)\n",
        "\n",
        "# Remove high VIF features\n",
        "df = df.drop(['newbalanceOrig', 'newbalanceDest'], axis=1)\n",
        "print(\"\\nFeatures after removing multicollinear columns:\", df.columns.tolist())\n"
      ],
      "metadata": {
        "colab": {
          "base_uri": "https://localhost:8080/"
        },
        "id": "Nk4_lLvsOWK3",
        "outputId": "c1be027f-66c8-4a76-8990-88de722a75b2"
      },
      "execution_count": 40,
      "outputs": [
        {
          "output_type": "stream",
          "name": "stdout",
          "text": [
            "VIF Scores:\n",
            "          feature         VIF\n",
            "0          amount    1.442196\n",
            "1   oldbalanceOrg  466.406243\n",
            "2  newbalanceOrig  468.023998\n",
            "3  oldbalanceDest   29.109870\n",
            "4  newbalanceDest   30.906272\n",
            "\n",
            "Features after removing multicollinear columns: ['step', 'type', 'amount', 'nameOrig', 'oldbalanceOrg', 'nameDest', 'oldbalanceDest', 'isFraud', 'isFlaggedFraud']\n"
          ]
        }
      ]
    },
    {
      "cell_type": "markdown",
      "source": [
        "## 2. Fraud Detection Model Development\n",
        "\n",
        "\n",
        "### Model Selection Rationale\n",
        "# **XGBoost was chosen because:**\n",
        "# 1. Handles imbalanced data well through scale_pos_weight\n",
        "# 2. Provides excellent performance on tabular data\n",
        "# 3. Offers built-in feature importance metrics\n",
        "# 4. Supports parallel processing for large datasets"
      ],
      "metadata": {
        "id": "FLBJlQb2Oeh3"
      }
    },
    {
      "cell_type": "code",
      "source": [
        "\n",
        "from sklearn.model_selection import train_test_split\n",
        "from imblearn.over_sampling import SMOTE\n",
        "from xgboost import XGBClassifier\n",
        "\n",
        "# Feature engineering\n",
        "print(\"\\nCreating predictive features...\")\n",
        "df['type_code'] = df['type'].map({\n",
        "    'CASH_IN':0, 'PAYMENT':1, 'DEBIT':2, 'CASH_OUT':3, 'TRANSFER':4  # TRANSFER and CASH_OUT are high risk\n",
        "})\n",
        "df['balance_change'] = df['oldbalanceOrg'] - df['amount']\n",
        "df['hour'] = df['step'] % 24\n",
        "df['is_merchant'] = df['nameDest'].str.startswith('M').astype(int)\n",
        "\n",
        "# Prepare data\n",
        "X = df[['type_code', 'amount', 'balance_change', 'hour', 'is_merchant']]\n",
        "y = df['isFraud']\n",
        "\n",
        "# Split data\n",
        "X_train, X_test, y_train, y_test = train_test_split(\n",
        "    X, y, test_size=0.3, stratify=y, random_state=42\n",
        ")\n",
        "\n",
        "# Handle class imbalance\n",
        "print(\"\\nClass distribution before SMOTE:\", y_train.value_counts())\n",
        "smote = SMOTE(random_state=42)\n",
        "X_res, y_res = smote.fit_resample(X_train, y_train)\n",
        "print(\"Class distribution after SMOTE:\", pd.Series(y_res).value_counts())\n",
        "\n",
        "# Train model\n",
        "print(\"\\nTraining XGBoost model...\")\n",
        "model = XGBClassifier(\n",
        "    scale_pos_weight=len(y_train[y_train==0])/len(y_train[y_train==1]),\n",
        "    objective='binary:logistic',\n",
        "    eval_metric='aucpr',\n",
        "    max_depth=6,\n",
        "    learning_rate=0.1,\n",
        "    subsample=0.8,\n",
        "    random_state=42\n",
        ")\n",
        "model.fit(X_res, y_res)\n",
        "print(\"Model training complete!\")"
      ],
      "metadata": {
        "colab": {
          "base_uri": "https://localhost:8080/"
        },
        "id": "Vh0gqiJEOqiW",
        "outputId": "7fb5314c-2ae3-4df4-befd-692c90bce106"
      },
      "execution_count": 41,
      "outputs": [
        {
          "output_type": "stream",
          "name": "stdout",
          "text": [
            "\n",
            "Creating predictive features...\n",
            "\n",
            "Class distribution before SMOTE: isFraud\n",
            "0    4448085\n",
            "1       5749\n",
            "Name: count, dtype: int64\n",
            "Class distribution after SMOTE: isFraud\n",
            "0    4448085\n",
            "1    4448085\n",
            "Name: count, dtype: int64\n",
            "\n",
            "Training XGBoost model...\n",
            "Model training complete!\n"
          ]
        }
      ]
    },
    {
      "cell_type": "markdown",
      "source": [
        "\n",
        "## 3. Variable Selection Methodology\n",
        "# **We used three techniques:**\n",
        "# 1. **Domain Knowledge**: Selected features that directly relate to fraud patterns (transaction type, amounts)\n",
        "# 2. **Statistical Tests**: ANOVA F-test for feature significance\n",
        "# 3. **Model-Based**: XGBoost's built-in feature importance\n"
      ],
      "metadata": {
        "id": "Z6SXKKHyOx7T"
      }
    },
    {
      "cell_type": "code",
      "source": [
        "\n",
        "from sklearn.feature_selection import SelectKBest, f_classif\n",
        "\n",
        "# Statistical significance\n",
        "selector = SelectKBest(score_func=f_classif, k='all')\n",
        "selector.fit(X_res, y_res)\n",
        "\n",
        "print(\"\\nFeature selection results:\")\n",
        "feature_scores = pd.DataFrame({\n",
        "    'Feature': X.columns,\n",
        "    'ANOVA Score': selector.scores_\n",
        "}).sort_values('ANOVA Score', ascending=False)\n",
        "print(feature_scores)\n",
        "\n",
        "# Model-based importance\n",
        "importance = pd.DataFrame({\n",
        "    'Feature': X.columns,\n",
        "    'XGBoost Importance': model.feature_importances_\n",
        "}).sort_values('XGBoost Importance', ascending=False)\n",
        "\n",
        "print(\"\\nFinal selected features:\")\n",
        "print(importance)"
      ],
      "metadata": {
        "colab": {
          "base_uri": "https://localhost:8080/"
        },
        "id": "8Prs0Yz0PGLa",
        "outputId": "9d06f557-1324-4e0b-8e73-43ff6655359f"
      },
      "execution_count": 42,
      "outputs": [
        {
          "output_type": "stream",
          "name": "stdout",
          "text": [
            "\n",
            "Feature selection results:\n",
            "          Feature   ANOVA Score\n",
            "0       type_code  4.973396e+06\n",
            "1          amount  2.946426e+06\n",
            "4     is_merchant  2.277248e+06\n",
            "3            hour  1.489574e+06\n",
            "2  balance_change  1.961364e+04\n",
            "\n",
            "Final selected features:\n",
            "          Feature  XGBoost Importance\n",
            "0       type_code            0.725998\n",
            "2  balance_change            0.204239\n",
            "1          amount            0.053732\n",
            "3            hour            0.016030\n",
            "4     is_merchant            0.000000\n"
          ]
        }
      ]
    },
    {
      "cell_type": "markdown",
      "source": [
        "\n",
        "## 4. Model Performance Evaluation\n"
      ],
      "metadata": {
        "id": "60jgbxv2PMX4"
      }
    },
    {
      "cell_type": "code",
      "source": [
        "from sklearn.metrics import (classification_report,\n",
        "                           confusion_matrix,\n",
        "                           roc_auc_score,\n",
        "                           precision_recall_curve,\n",
        "                           average_precision_score)\n",
        "\n",
        "# Generate predictions\n",
        "y_pred = model.predict(X_test)\n",
        "y_proba = model.predict_proba(X_test)[:,1]\n",
        "\n",
        "# Evaluation metrics\n",
        "print(\"\\nModel Performance Metrics:\")\n",
        "print(classification_report(y_test, y_pred))\n",
        "print(f\"ROC AUC Score: {roc_auc_score(y_test, y_proba):.4f}\")\n",
        "print(f\"Average Precision Score: {average_precision_score(y_test, y_proba):.4f}\")\n",
        "\n",
        "# Confusion matrix\n",
        "plt.figure(figsize=(8,6))\n",
        "sns.heatmap(confusion_matrix(y_test, y_pred),\n",
        "            annot=True, fmt='d', cmap='Blues',\n",
        "            xticklabels=['Legit', 'Fraud'],\n",
        "            yticklabels=['Legit', 'Fraud'])\n",
        "plt.title('Confusion Matrix')\n",
        "plt.xlabel('Predicted')\n",
        "plt.ylabel('Actual')\n",
        "plt.show()\n",
        "\n",
        "# Precision-Recall curve\n",
        "precision, recall, _ = precision_recall_curve(y_test, y_proba)\n",
        "plt.figure(figsize=(8,6))\n",
        "plt.plot(recall, precision)\n",
        "plt.title('Precision-Recall Curve')\n",
        "plt.xlabel('Recall')\n",
        "plt.ylabel('Precision')\n",
        "plt.show()"
      ],
      "metadata": {
        "colab": {
          "base_uri": "https://localhost:8080/",
          "height": 1000
        },
        "id": "unR64H6kPTjO",
        "outputId": "f58881df-93d1-460a-c67e-f3acf96023c8"
      },
      "execution_count": 43,
      "outputs": [
        {
          "output_type": "stream",
          "name": "stdout",
          "text": [
            "\n",
            "Model Performance Metrics:\n",
            "              precision    recall  f1-score   support\n",
            "\n",
            "           0       1.00      0.87      0.93   1906322\n",
            "           1       0.01      1.00      0.02      2464\n",
            "\n",
            "    accuracy                           0.87   1908786\n",
            "   macro avg       0.51      0.94      0.48   1908786\n",
            "weighted avg       1.00      0.87      0.93   1908786\n",
            "\n",
            "ROC AUC Score: 0.9993\n",
            "Average Precision Score: 0.9600\n"
          ]
        },
        {
          "output_type": "display_data",
          "data": {
            "text/plain": [
              "<Figure size 800x600 with 2 Axes>"
            ],
            "image/png": "[encoded data removed]"
          },
          "metadata": {}
        },
        {
          "output_type": "display_data",
          "data": {
            "text/plain": [
              "<Figure size 800x600 with 1 Axes>"
            ],
            "image/png": "[encoded data removed]"
          },
          "metadata": {}
        }
      ]
    },
    {
      "cell_type": "markdown",
      "source": [
        "## 5. Key Fraud Prediction Factors\n"
      ],
      "metadata": {
        "id": "O-lnLRhQPesk"
      }
    },
    {
      "cell_type": "code",
      "source": [
        "feature_importance = pd.DataFrame({\n",
        "    'Feature': X.columns,\n",
        "    'Importance': model.feature_importances_\n",
        "}).sort_values('Importance', ascending=False)\n",
        "\n",
        "print(\"\\nTop Fraud Indicators:\")\n",
        "print(feature_importance)\n",
        "\n",
        "plt.figure(figsize=(10,6))\n",
        "sns.barplot(x='Importance', y='Feature', data=feature_importance)\n",
        "plt.title('Feature Importance for Fraud Prediction')\n",
        "plt.show()"
      ],
      "metadata": {
        "colab": {
          "base_uri": "https://localhost:8080/",
          "height": 703
        },
        "id": "Me0f7lDcPjBi",
        "outputId": "56a49257-e362-45d5-a839-34e50c858b61"
      },
      "execution_count": 44,
      "outputs": [
        {
          "output_type": "stream",
          "name": "stdout",
          "text": [
            "\n",
            "Top Fraud Indicators:\n",
            "          Feature  Importance\n",
            "0       type_code    0.725998\n",
            "2  balance_change    0.204239\n",
            "1          amount    0.053732\n",
            "3            hour    0.016030\n",
            "4     is_merchant    0.000000\n"
          ]
        },
        {
          "output_type": "display_data",
          "data": {
            "text/plain": [
              "<Figure size 1000x600 with 1 Axes>"
            ],
            "image/png": "[encoded data removed]"
          },
          "metadata": {}
        }
      ]
    },
    {
      "cell_type": "markdown",
      "source": [
        "\n",
        "\n",
        "## 6. Business Rationale for Key Factors\n",
        "# **Why these factors make sense:**\n",
        "# 1. **Transaction Type (TRANSFER/CASH_OUT)**: Fraudsters need to move money out quickly\n",
        "# 2. **Amount**: Large transactions have higher financial impact\n",
        "# 3. **Balance Change**: Sudden large withdrawals indicate account takeover\n",
        "# 4. **Time of Day**: Fraud often occurs during low-monitoring hours\n",
        "# 5. **Merchant Flag**: Some fraud schemes use merchant accounts to launder money\n",
        "\n",
        "\n",
        "## 7. Fraud Prevention Recommendations\n",
        "# **Infrastructure Improvements:**\n",
        "# 1. **Real-time Scoring**: Deploy model as microservice to evaluate transactions in <100ms\n",
        "# 2. **Multi-layered Verification**:\n",
        "#    - Step-up authentication for high-risk transactions\n",
        "#    - Velocity checks for rapid transactions\n",
        "# 3. **Continuous Monitoring**:\n",
        "#    - Daily model performance checks\n",
        "#    - Weekly retraining with new data\n",
        "# 4. **Employee Training**:\n",
        "#    - Fraud pattern recognition\n",
        "#    - Case handling procedures\n",
        "\n",
        "\n",
        "## 8. Success Measurement Framework\n",
        "# **Key Performance Indicators:**\n",
        "# 1. **Detection Rate**: Maintain >85% recall for fraud cases\n",
        "# 2. **False Positive Rate**: Keep <2% to minimize customer impact\n",
        "# 3. **Time-to-Detect**: Reduce from current 24hrs to <1hr\n",
        "# 4. **Financial Impact**:\n",
        "#    - Reduce fraud losses by 50% in 6 months\n",
        "#    - Track ROI of prevention system\n",
        "# 5. **Customer Experience**:\n",
        "#    - Monitor complaints about blocked transactions\n",
        "#    - Survey customer trust scores\n"
      ],
      "metadata": {
        "id": "QJmbYTahPre5"
      }
    },
    {
      "cell_type": "code",
      "source": [
        "# Save model for deployment\n",
        "import joblib\n",
        "joblib.dump(model, 'fraud_detection_model_for_financial_transaction.pkl')\n",
        "print(\"\\nModel saved as 'fraud_detection_model_for_financial_transaction.pkl'\")\n",
        "\n",
        "# Example prediction\n",
        "test_case = [[4, 250000, 250000, 3, 0]]  # TRANSFER, large amount, night time\n",
        "print(\"\\nExample prediction for high-risk transaction:\",\n",
        "      \"Fraud\" if model.predict(test_case)[0] == 1 else \"Legitimate\")"
      ],
      "metadata": {
        "colab": {
          "base_uri": "https://localhost:8080/"
        },
        "id": "8Y-7E-hhP9KS",
        "outputId": "56a5c2fe-5e2b-43da-ec9a-934590409959"
      },
      "execution_count": 45,
      "outputs": [
        {
          "output_type": "stream",
          "name": "stdout",
          "text": [
            "\n",
            "Model saved as 'fraud_detection_model_for_financial_transaction.pkl'\n",
            "\n",
            "Example prediction for high-risk transaction: Legitimate\n"
          ]
        }
      ]
    }
  ]
}